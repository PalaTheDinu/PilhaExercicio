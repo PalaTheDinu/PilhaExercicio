{
 "cells": [
  {
   "cell_type": "code",
   "execution_count": 14,
   "metadata": {},
   "outputs": [
    {
     "name": "stdout",
     "output_type": "stream",
     "text": [
      "oãlebaT\n",
      "amoReDieRoTaRIoF\n",
      "239053\n",
      "sêugutroP\n",
      "samlaP supmaC snitinU\n",
      "0RR@C\n"
     ]
    }
   ],
   "source": [
    "class No:\n",
    "    def __init__(self, valor):\n",
    "        self.valor = valor\n",
    "        self.proximo = None\n",
    "\n",
    "class Pilha:\n",
    "    def __init__(self):\n",
    "        self.topo = None\n",
    "\n",
    "    def push(self, valor):\n",
    "        novo_no = No(valor)\n",
    "        novo_no.proximo = self.topo\n",
    "        self.topo = novo_no\n",
    "\n",
    "    def pop(self):\n",
    "        if self.topo is not None:\n",
    "            removido = self.topo\n",
    "            self.topo = self.topo.proximo\n",
    "            return removido.valor\n",
    "        raise Exception(\"Pilha vazia.\")\n",
    "    \n",
    "    def reverse_string(input_string):\n",
    "        s = Pilha()\n",
    "\n",
    "        for char in input_string:\n",
    "            s.push(char)\n",
    "\n",
    "        reversed_string = \"\"\n",
    "        while s.topo is not None:\n",
    "            reversed_string += s.pop()\n",
    "\n",
    "        return reversed_string\n",
    "    \n",
    "    print(reverse_string(\"Tabelão\")) \n",
    "    print(reverse_string(\"FoIRaToReiDeRoma\"))\n",
    "    print(reverse_string(\"350932\"))\n",
    "    print(reverse_string(\"Português\"))\n",
    "    print(reverse_string(\"Unitins Campus Palmas\"))\n",
    "    print(reverse_string(\"C@RR0\"))"
   ]
  }
 ],
 "metadata": {
  "kernelspec": {
   "display_name": "Python 3",
   "language": "python",
   "name": "python3"
  },
  "language_info": {
   "codemirror_mode": {
    "name": "ipython",
    "version": 3
   },
   "file_extension": ".py",
   "mimetype": "text/x-python",
   "name": "python",
   "nbconvert_exporter": "python",
   "pygments_lexer": "ipython3",
   "version": "3.11.9"
  }
 },
 "nbformat": 4,
 "nbformat_minor": 2
}
